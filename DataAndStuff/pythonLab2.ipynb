{
 "cells": [
  {
   "cell_type": "markdown",
   "metadata": {},
   "source": [
    "Stationary stochastic processes,<br>\n",
    "Lund University, <br>\n",
    "Centre for Mathematical Sciences HT 2024, <br>\n",
    "Mathematical Statistics\n",
    "\n",
    "# Computer exercise 2 (Ladok-Lab 2a)\n",
    "\n",
    "In this computer exercise you will study the connections between\n",
    "pole-zero plots, covariance functions, spectral densities and\n",
    "realizations for some AR-, MA- and ARMA-processes and you will also\n",
    "learn how to simulate data from a specific model. You will study\n",
    "recorded speech data and reconstruct the data sequence from white noise and an estimated AR-model.\n",
    "***\n",
    "* Please work in groups of two students!\n",
    "***"
   ]
  },
  {
   "cell_type": "code",
   "execution_count": 1,
   "metadata": {},
   "outputs": [],
   "source": [
    "# Start with the necessary imports\n",
    "import numpy as np\n",
    "from matplotlib import pyplot as plt\n",
    "import scipy.signal\n",
    "import scipy.io as sio\n",
    "from scipy.fft import fft, ifft\n",
    "import sounddevice as sd\n",
    "\n",
    "from help_funcs_SSP import poles_and_zeros, plot_poles_and_zeros, arcov, completeAR\n"
   ]
  },
  {
   "cell_type": "markdown",
   "metadata": {},
   "source": [
    "## 1 Working with AR-, MA- and ARMA-models\n",
    "\n",
    "To use the powerful toolbox of AR-, MA- and ARMA-models, it is important to understand how these models are designed and the properties that are connected to a specific model. The design of a specific model for a certain problem is built on your knowledge of advantages and drawbacks of the model.\n",
    "\n",
    "### 1.1 Modelling and simulation of AR(1)-processes\n",
    "\n",
    "Create an AR(1)-model in Python, representing `C=np.array([1])` and `A=np.array([1,a1])` for\n",
    "your choice of the real-valued parameter `a1` with the stability\n",
    "restriction `|a1|<1`. In this exercise you will write code for your own\n",
    "script to generate a set of figures of the pole-zero plot, covariance\n",
    "function, spectral density and a realization example of a specific\n",
    "model. Use the `plt.subplot`-command to collect all representations in the\n",
    "same figure. With the function `poles_and_zeros(C,A)` poles and zeros are found and plotted. Change the value of `a1` to another\n",
    "value with opposite sign and study the pole location."
   ]
  },
  {
   "cell_type": "code",
   "execution_count": null,
   "metadata": {},
   "outputs": [],
   "source": [
    "# Write your own code below\n",
    "\n",
    "# Calculate poles (and zeros)\n",
    "n,p = poles_and_zeros(C,A)\n",
    "# Plotting, use subplots\n",
    "fig, axs = plt.subplots(2,2)\n",
    "fig.suptitle('AR model') # Sets title\n",
    "plt.tight_layout() # Adjusts grid to make plots always fit.\n",
    "plot_poles_and_zeros(n,p,axs[0,0])\n",
    "\n"
   ]
  },
  {
   "cell_type": "markdown",
   "metadata": {},
   "source": [
    "\n",
    "***Q1. Does the resulting locations of the pole match your choices of\n",
    "**`a1`** according to theory (see Ex. 7.1, page 170 in the course\n",
    "book)?***\n"
   ]
  },
  {
   "cell_type": "markdown",
   "metadata": {},
   "source": [
    "With a choice of the input white noise standard deviation $\\sigma$, the\n",
    "corresponding spectral density can be calculated. The spectral density can then be visualized in the frequency range zero to 0.5.\n",
    "The function `scipy.signal.freqz()` calculates the frequency function corresponding to the given polynomials `sigma*C` and `A` for angular frequencies\n",
    "$0\\leq \\omega < 2\\pi$. We choose to divide the angular frequency scale with $2\\pi$ and plot the spectral density as a function of frequencies\n",
    "$0\\leq f \\leq 0.5$."
   ]
  },
  {
   "cell_type": "code",
   "execution_count": null,
   "metadata": {},
   "outputs": [],
   "source": [
    "# Write your own code below\n",
    "\n",
    "w,h = scipy.signal.freqz(sigma**2*C,A,worN=1024)\n",
    "R = np.abs(h)**2\n",
    "axs[0,1].plot(w/2/np.pi,R)\n",
    "axs[0,1].set_xlabel(\"Frequency\")\n",
    "axs[0,1].set_ylabel(\"Power\")\n",
    "fig"
   ]
  },
  {
   "cell_type": "markdown",
   "metadata": {},
   "source": [
    "The true covariance function is found and depicted with the inverse Fourier of the spectral density function. Note: For correct calculation of the true covariance function, the frequency range must be the whole spectral density (see above) with the frequency range zero to one (zero to $2\\pi$). Then the inverse Fourier transform `ifft` will compute the true real valued covariance function."
   ]
  },
  {
   "cell_type": "code",
   "execution_count": null,
   "metadata": {},
   "outputs": [],
   "source": [
    "# Calculate the incerse Fourier transform of the spectral density\n",
    "r = np.real(ifft(np.concatenate([R,np.flip(R[:-2])])))\n",
    "\n",
    "# Plotting\n",
    "axs[1,0].plot(np.arange(0,40),r[0:40])\n",
    "axs[1,0].set_xlabel(\"Lags\")\n",
    "axs[1,0].set_ylabel(\"Covariance\")\n",
    "fig"
   ]
  },
  {
   "cell_type": "markdown",
   "metadata": {},
   "source": [
    "Study the spectral density and covariance function for a positive and\n",
    "negative choice of the parameter `a1`, `|a1|<1`.\n",
    "\n",
    "***Q2. Do the spectral densities and the covariance functions look as\n",
    "expected for your choices of positive and negative parameter `a1`?***\n"
   ]
  },
  {
   "cell_type": "markdown",
   "metadata": {},
   "source": [
    "To simulate a realization of a Gaussian AR-process, we generate a\n",
    "sequence of independent and Gaussian distributed stochastic variables,\n",
    "$e_t, t=1, \\ldots, n$ with mean zero and variance $\\sigma^2$ and use\n",
    "this sequence as input of our model,"
   ]
  },
  {
   "cell_type": "code",
   "execution_count": null,
   "metadata": {},
   "outputs": [],
   "source": [
    "n=150\n",
    "e = np.sqrt(sigma**2)*np.random.randn(n,1)\n",
    "x = scipy.signal.lfilter(C, A, e, axis=0)\n",
    "xstat=x[51:150]\n",
    "axs[1,1].plot(xstat)\n",
    "axs[1,1].set_xlabel(\"Sample\")\n",
    "axs[1,1].set_ylabel(\"Value\")\n",
    "fig\n"
   ]
  },
  {
   "cell_type": "markdown",
   "metadata": {},
   "source": [
    "The plotted realization is a column vector `xstat`, which represents the\n",
    "stationary part of the filtered white noise. In some cases, the initial\n",
    "samples are not representative of a stationary process realization. The\n",
    "exact number of samples depends on how quickly the impulse response\n",
    "parameters reach zero. If you run the above lines of code once again, a\n",
    "new realization is simulated. Include the code for simulating and\n",
    "plotting a realization in your script and verify that all four subplots\n",
    "seem to be correct for a positive and negative value of `a1`.\n"
   ]
  },
  {
   "cell_type": "markdown",
   "metadata": {},
   "source": [
    "Finally, run the script for two parameters, $|a^{stable}_1|<1$, which\n",
    "gives a stationary process realization, and\n",
    "$a^{unstable}_1=|1/a^{stable}_1|>1$, which will result in an unstable\n",
    "realization. Verify that the spectral densities and covariance functions\n",
    "have exactly the same shapes (except for a scaling factor) for the two\n",
    "cases.\n",
    "\n",
    "***Q3. Can you prove that the two spectral densities will have the same\n",
    "shape (except for a scaling factor)?***"
   ]
  },
  {
   "cell_type": "markdown",
   "metadata": {},
   "source": [
    "It is important to note that stability cannot be verified just by\n",
    "visualizing the spectral density or the covariance function. A check\n",
    "that the poles are inside the unit circle should always be performed!"
   ]
  },
  {
   "cell_type": "markdown",
   "metadata": {},
   "source": [
    "### 1.2 Properties of an AR-model\n",
    "\n",
    "Copy the code designed above, but with a model change to an AR(2)-process, making a choice of poles\n",
    "\n",
    "    p=[rhoa*np.exp(1j*2*np.pi*freqa) , rhoa*np.exp(-1j*2*np.pi*freqa)]\n",
    "\n",
    "where `1j` is $\\sqrt{-1}$, predefined in Python. Make a choice of the\n",
    "damping factor `rhoa<1` and frequency `0<freqa<0.5`. Note that there\n",
    "always should be a complex conjugate pair of the poles, when we work\n",
    "with real valued processes, except when the poles are located on the\n",
    "real axis which we can express just with a real value `-1 < real_p < 1`. The polynomial `A` (and similarly `C`) are found with `np.poly(p)`."
   ]
  },
  {
   "cell_type": "code",
   "execution_count": null,
   "metadata": {},
   "outputs": [],
   "source": [
    "# Write your own code here\n",
    "\n",
    "\n",
    "# Convert zeros and poles to polynomials C, A\n",
    "C = [1]\n",
    "A = np.poly(p)\n",
    "\n",
    "# Plotting the 4 plots\n",
    "# Using previously given snippets, write your own code below:"
   ]
  },
  {
   "cell_type": "markdown",
   "metadata": {},
   "source": [
    "Always check that the resulting polynomial coefficients are real valued!\n",
    "(Sometimes small imaginary error values could appear. Then you should\n",
    "take the real part of your polynomial coefficients, with the function\n",
    "`np.real()`.) For an AR-model all zeros are in the origin, i.e. `C=np.array([1])`. Change\n",
    "the damping parameter `rhoa` and study the resulting plots.\n",
    "\n",
    "***Q4. How do the covariance function, spectral density and realization\n",
    "change when you increase the value of the damping factor to be closer to\n",
    "one?***\n",
    "\n",
    "Change the frequency parameter `freqa` and study the plots.\n",
    "\n",
    "***Q5. How do the covariance function, spectral density and realization\n",
    "change when you increase the angle of your poles from the positive real\n",
    "axis?***\n"
   ]
  },
  {
   "cell_type": "markdown",
   "metadata": {},
   "source": [
    "By building up larger sets of complex-conjugated pairs of poles you can\n",
    "model AR-processes of higher order, e.g. and AR(4)-process,"
   ]
  },
  {
   "cell_type": "code",
   "execution_count": null,
   "metadata": {},
   "outputs": [],
   "source": [
    "# Define parameters\n",
    "# Write your own code below\n",
    "\n",
    "\n",
    "# Define multiple pole-pairs and find the corresponding polynomial.\n",
    "p1 = [rho1*np.exp(1j*2*np.pi*freq1),  rho1*np.exp(-1j*2*np.pi*freq1)]\n",
    "p2 = [rho2*np.exp(1j*2*np.pi*freq2), rho2*np.exp(-1j*2*np.pi*freq2)]\n",
    "p = p1+p2\n",
    "n = [0]\n",
    "A = np.poly(p)\n",
    "C = np.poly(n)\n",
    "\n",
    "# Plotting the 4 plots\n",
    "# Using previously given snippets, write your own code below:"
   ]
  },
  {
   "cell_type": "markdown",
   "metadata": {},
   "source": [
    "### 1.3 Properties of an MA-model\n",
    "\n",
    "Now you should change your modelling to an MA-process. Start with an\n",
    "MA(2)-model with `A=np.array([1])` (all poles in the origin) and your choices of `rhoc` and\n",
    "`freqc`. Remember the restrictions from your previous choices of poles!\n",
    "Change the parameters and study the resulting plots.\n"
   ]
  },
  {
   "cell_type": "code",
   "execution_count": null,
   "metadata": {},
   "outputs": [],
   "source": [
    "# Define parameters\n",
    "freqc = 0.2\n",
    "rhoc = 0.5\n",
    "\n",
    "# Define multiple zero-pairs and find the corresponding polynomial.\n",
    "C = np.poly([rhoc*np.exp(1j*2*np.pi*freqc),  rhoc*np.exp(-1j*2*np.pi*freqc)])\n",
    "A = [1]\n",
    "n,p = poles_and_zeros(C,A)\n",
    "\n",
    "# Plotting the 4 plots\n",
    "# Write your own code below"
   ]
  },
  {
   "cell_type": "markdown",
   "metadata": {},
   "source": [
    "***Q6. How do the covariance function, spectral density and realization\n",
    "change when you increase the angle of your zeros from the positive real\n",
    "axis and the distance from the origin?***"
   ]
  },
  {
   "cell_type": "markdown",
   "metadata": {},
   "source": [
    "Add more zeros into your process, e.g. an MA(3)-process is easily\n",
    "generated by adding a real-valued zero `-1<realzero<1`,"
   ]
  },
  {
   "cell_type": "code",
   "execution_count": null,
   "metadata": {},
   "outputs": [],
   "source": [
    "# Define parameter\n",
    "real_zero = 0.1\n",
    "\n",
    "# Define multiple zero-pairs and find the corresponding polynomial.\n",
    "C=np.poly([rhoc*np.exp(1j*2*np.pi*freqc),  rhoc*np.exp(-1j*2*np.pi*freqc), real_zero])\n",
    "A = [1]\n",
    "n,p = poles_and_zeros(C,A)\n",
    "\n",
    "# 4 plots.\n",
    "# Write your own code below"
   ]
  },
  {
   "cell_type": "markdown",
   "metadata": {},
   "source": [
    "Study the results.\n",
    "\n",
    "***Q7. For a general MA(q)-process, for which values of $\\tau$ do the\n",
    "covariance functions of the different processes above become zero? Is\n",
    "this true for your examples?***"
   ]
  },
  {
   "cell_type": "markdown",
   "metadata": {},
   "source": [
    "### 1.4 Example of an ARMA(2,2)-process\n",
    "\n",
    "We model an ARMA(2,2)-process using both poles and zeros with the code below, using appropriate choices of the damping factors and frequencies.\n",
    "\n",
    "To be able to see also the location of the zeros in the spectral density it is wise to replace the plotting of the spectral density in your script with a plotting of the spectral density in dB-scale, i.e. `axs[0,1].plot(w/2/np.pi,10*np.log10(R))`. View both the linear and the dB-scale to see the differences."
   ]
  },
  {
   "cell_type": "code",
   "execution_count": null,
   "metadata": {},
   "outputs": [],
   "source": [
    "# Define parameters\n",
    "# Write your own code below\n",
    "\n",
    "# Define poles and zeros, and find the corresponding polynomial\n",
    "A = np.poly([rhoa*np.exp(1j*2*np.pi*freqa),  rhoa*np.exp(-1j*2*np.pi*freqa)])\n",
    "C=np.poly([rhoc*np.exp(1j*2*np.pi*freqc),  rhoc*np.exp(-1j*2*np.pi*freqc)])\n",
    "\n",
    "\n",
    "n,p = poles_and_zeros(C,A)\n",
    "\n",
    "# 4 plots.\n",
    "# Write your own code below"
   ]
  },
  {
   "cell_type": "markdown",
   "metadata": {},
   "source": [
    "***Q8. Which parts of the spectral density have high power and which has\n",
    "low power respectively in reference to the location of poles and zeros?\n",
    "What are the advantages and drawbacks of the linear- and dB-scales\n",
    "respectively?***\n",
    "\n",
    "Save your scripts for visualizing pole-zero plots, spectral densities,\n",
    "covariance functions and realizations for use in future exercises!"
   ]
  },
  {
   "cell_type": "markdown",
   "metadata": {},
   "source": [
    "## 2 Speech modeling in mobile phones\n",
    "\n",
    "The Global System for Mobile Communications (GSM) uses a system based on\n",
    "Linear Predictive Coding, (LPC) for the coding and decoding of speech in\n",
    "the transmission. A simplification of the LPC-model can be interpreted\n",
    "as an AR-model. The AR-parameters of the model are estimated from a time\n",
    "frame of 20 ms, that is assumed to be stationary, and the parameters of\n",
    "the AR-model are then sent to the other person's phone together with\n",
    "residual information between the model and the data. By using the\n",
    "residual information together with a white noise realization as input of\n",
    "the AR-model, the speech will be reconstructed to the extent that we can\n",
    "hear what is said. The gain of this procedure is more efficient use of\n",
    "the bitrates that is available for the transmission of information.\n",
    "\n",
    "In this exercise we will code and decode a noisy speech sequence using\n",
    "estimated AR-parameters and thereby we will have constructed a\n",
    "simplified version of the LPC-decoder.\n",
    "\n",
    "### 2.1 Filtering of noisy data\n",
    "\n",
    "Load the file `speechdata` with the variables `data` and `fs`. Someone\n",
    "is saying *\"Why were you away a year, Roy?\"*. The sampling frequency is\n",
    "48 kHz and the data is heavily disturbed by high-frequency noise. Listen\n",
    "to the file using `sd.play(x,fs)`. Don't forget to include the sampling\n",
    "frequency! Also plot the data sequence.\n"
   ]
  },
  {
   "cell_type": "code",
   "execution_count": null,
   "metadata": {},
   "outputs": [],
   "source": [
    "path_to_data = \"speechdata.mat\" # Change to YOUR path to data.\n",
    "mat = sio.loadmat(path_to_data,simplify_cells=True)\n",
    "data = mat[\"data\"]\n",
    "fs = mat[\"fs\"]\n",
    "\n",
    "# Play data\n",
    "# Write your own code below\n",
    "\n",
    "# Plot data\n",
    "# Write your own code below\n"
   ]
  },
  {
   "cell_type": "markdown",
   "metadata": {},
   "source": [
    "We will start by using a commonly applied Finite Impulse Response (FIR)\n",
    "filter to reduce the effect of the noise. Apply an FIR low-pass filter of\n",
    "order `N=100` with cut-off frequency 4 kHz. Use documentation for `firwin` to find out\n",
    "how to specify `Wn`.\n",
    "\n",
    "Verify that you have specified `Wn` as the cut-off frequency 4 kHz by\n",
    "plotting the magnitude function according as well."
   ]
  },
  {
   "cell_type": "code",
   "execution_count": null,
   "metadata": {},
   "outputs": [],
   "source": [
    "# Define parameters\n",
    "# Write your own code below\n",
    "\n",
    "# Define low-pass filter and plot the magnitude function\n",
    "b=scipy.signal.firwin(N,Wn,pass_zero='lowpass')\n",
    "w,h = scipy.signal.freqz(b,1)\n",
    "plt.plot(w/2/np.pi*fs,np.abs(h)**2)"
   ]
  },
  {
   "cell_type": "markdown",
   "metadata": {},
   "source": [
    "You can also replace the magnitude function in last line with the\n",
    "dB-scaled squared magnitude `10*log10(abs(H)**2)` for a better view. \n",
    "\n",
    "Filter\n",
    "your data sequence, using `datafilt=scipy.signal.lfilter(b,1,data)`! Listen and plot the resulting sequence. If you want you can also experiment with some other cut-off frequencies in your filter, e.g. replace 4 kHz with 2 kHz or 8 kHz. Listen to the resulting sound sequences! *Use your choice of low-pass filtered data in the following exercises.*"
   ]
  },
  {
   "cell_type": "code",
   "execution_count": 13,
   "metadata": {},
   "outputs": [],
   "source": [
    "# Write your own code below\n",
    "datafilt = scipy.signal.lfilter(b,1,data)\n",
    "\n",
    "# Play sound\n",
    "#sd.play(datafilt,fs)\n",
    "\n",
    "# Plot data\n",
    "# Write your own code below"
   ]
  },
  {
   "cell_type": "markdown",
   "metadata": {},
   "source": [
    "***Q9. For which cut-off frequency is the sound quality best in your\n",
    "opinion?***"
   ]
  },
  {
   "cell_type": "markdown",
   "metadata": {},
   "source": [
    "### 2.2 Building an AR-model for a short speech sequence\n",
    "\n",
    "In this exercise we will limit to a sub-sequence of the complete lowpass\n",
    "filtered data and study how we can choose and estimate an appropriate\n",
    "AR-model for this sub-sequence of data. Choose a 20 ms sub-sequence\n",
    "according to `datasub=datafilt[13320:14279]` and plot the sequence."
   ]
  },
  {
   "cell_type": "code",
   "execution_count": 21,
   "metadata": {},
   "outputs": [],
   "source": [
    "# Write your code below"
   ]
  },
  {
   "cell_type": "markdown",
   "metadata": {},
   "source": [
    "***Q10. Does the data appears to be stationary? How do you verify that\n",
    "the sub-sequence is of length 20 ms?***"
   ]
  },
  {
   "cell_type": "markdown",
   "metadata": {},
   "source": [
    "Now you have two choices, either you can code the estimation of the AR-model from the data or if you are inexperienced in programming you can safely rely on the function\n",
    "\n",
    "    arp, sigma2 = arcov(x,p) \n",
    "\n",
    "If you will create your own estimator, the writing of the code is a challenging task but it is certainly a very useful exercise! For help see **pages 180-181 in the course book** where the solution is explicitly given in matrix form. You should use the column vector `x` and the model order `p`. The output parameters are a row vector `arp` (of length p+1) and the estimated innovation variance `sigma2`. To verify your code, compare the output parameters with the result from `arcov` for a few choices of `p`. The resulting parameters should be the same.\n",
    "\n",
    "If your own code is reliable you can use it throughout the remaining part of the exercise. Otherwise you should rely on `arcov`. Test a few different orders to see if you can model the `datasub`-sequence appropriately.\n",
    "\n",
    "As we don't have any true spectral density to compare with we can only make a comparison with a periodogram estimate. The following code calculates the periodogram and plots in a different view compared to the applied Matlab-function in Computer exercise 1. Here, the resulting spectral estimate is given for all frequencies from zero to `fs`. Most often we visualize the spectral estimate for frequencies `-fs/2` to `fs/2`, but the spectral density is periodic with period `fs` and the periodogram calculation gives the frequency range `-fs/2` to 0 at frequencies `f/2` to `fs`.\n",
    "\n",
    "    nfft = 1024\n",
    "    Rx=abs(fft(x,nfft))**2/len(x)  # Periodogram \n",
    "    plt.plot(w,10*np.log10(Rhat)) # Plotting\n",
    "\n",
    "We calculate an AR-spectrum `Rxar` from your estimated coefficients `arp` for the same frequency range as the periodogram above, 0 to `fs`.\n",
    "\n",
    "    w,h = scipy.signal.freqz([1],A,worN=1024,fs=fs,whole=True) \n",
    "    Rxar = sigma2*abs(h)**2 # AR-spectrum\n",
    "    plt.plot(w,10*np.log10(Rxar))\n",
    "\n",
    "Plot the AR-spectrum in the same figure as the periodogram."
   ]
  },
  {
   "cell_type": "code",
   "execution_count": 22,
   "metadata": {},
   "outputs": [],
   "source": [
    "# Write your own code below"
   ]
  },
  {
   "cell_type": "markdown",
   "metadata": {},
   "source": [
    "***Q11. Explain what you see in the figure. In what frequency range do\n",
    "you find the important part of the spectral estimate?***\n",
    "\n",
    "***Q12. Do you think your AR-model of the filtered speech is able to\n",
    "catch a spectral peaks of the underlying speech in a reasonable way?\n",
    "Comment on the different frequency ranges.***"
   ]
  },
  {
   "cell_type": "markdown",
   "metadata": {},
   "source": [
    "### 2.3 Decimation of data to find a better AR-model\n",
    "\n",
    "In the previous section we could see that it was difficult to find a\n",
    "good model for the filtered speech data. The reason is that the\n",
    "modelling includes the higher frequencies of the spectrum where there is\n",
    "no speech-related information. The same problem will appear using the\n",
    "unfiltered sequence, the AR-model would then have considered also the\n",
    "high-frequency noise. For the lower frequencies, where the important\n",
    "speech spectral density structure is located, the modelling become\n",
    "tricky as the spectrum was very compressed in frequency. We can solve\n",
    "this problem by decimating the data using\n"
   ]
  },
  {
   "cell_type": "code",
   "execution_count": 16,
   "metadata": {},
   "outputs": [],
   "source": [
    "x = scipy.signal.decimate(datasub,6)\n",
    "fs = fs/6"
   ]
  },
  {
   "cell_type": "markdown",
   "metadata": {},
   "source": [
    "Test some parameter choices of the AR-model and plot the resulting\n",
    "AR-model spectrum together with the periodogram. Note that using the\n",
    "filtered data for decimation is not necessary as `scipy.signal.decimate` applies a\n",
    "lowpass-filter to the data before the decimation."
   ]
  },
  {
   "cell_type": "code",
   "execution_count": 23,
   "metadata": {},
   "outputs": [],
   "source": [
    "# Repeat AR-estimation process with decimated signals\n",
    "# Write your own code below"
   ]
  },
  {
   "cell_type": "markdown",
   "metadata": {},
   "source": [
    "***Q13. Do you find that your new AR-model of the decimated data mirrors\n",
    "the properties of the speech in a better way than in the previous\n",
    "exercise?***\n",
    "\n",
    "### 2.4 Evaluating model orders with FPE\n",
    "\n",
    "To actually find the best AR-model for a specific sequence, the order of\n",
    "the model should be evaluated for an optimal choice. This is rather\n",
    "difficult and various formulas have been presented over the years to\n",
    "assist in this choice. Most of these use the innovation variance and\n",
    "weights this value in different ways. One commonly used is the Final\n",
    "Prediction Error (FPE) defined as $FPE=\\hat{\\sigma}^2\\frac{n+p+1}{n-p-1}$, where `n` is the data length.\n",
    "We apply the FPE to make a model order choice for our sub-sequence.\n",
    "Therefore we estimate the AR-parameters and more importantly the\n",
    "innovation variances for a number of possible model orders. We apply\n",
    "this procedure to the decimated data sequence in a `for`-loop, resulting in a vector `sigma2p` with the innovation variances. The\n",
    "following code weights the innovation variances for all tested orders to\n",
    "the FPE and plots the resulting values as a function of different model\n",
    "orders,\n",
    "\n"
   ]
  },
  {
   "cell_type": "code",
   "execution_count": null,
   "metadata": {},
   "outputs": [],
   "source": [
    "sigma2 = []\n",
    "for ptest in np.arange(1,80):\n",
    "    [arp,var] = arcov(x,ptest) # Exchange this to your method if you want\n",
    "    sigma2.append(var)\n",
    "sigma2 = np.array(sigma2)\n",
    "n = len(x)\n",
    "ptvect = np.arange(1,80)\n",
    "FPE=sigma2*(n+ptvect+1)/(n-ptvect-1)\n",
    "print(FPE.shape)\n",
    "plt.plot(ptvect,FPE)\n",
    "plt.show()"
   ]
  },
  {
   "cell_type": "markdown",
   "metadata": {},
   "source": [
    "With increasing model order, the resulting innovation variance. i.e. the\n",
    "residual error which is not taken care of by the model, will always\n",
    "decrease. The FPE value includes a weighting that compensates the\n",
    "advantage of using an increased number of parameters. In reality, there\n",
    "is always several possible choices of 'elbows' and from this specific\n",
    "plot we can find e.g. `p=7`, `20` or `36` as typical choices of model\n",
    "orders."
   ]
  },
  {
   "cell_type": "markdown",
   "metadata": {},
   "source": [
    "### 2.5 The complete AR-model and reconstruction of the speech\n",
    "\n",
    "The file `CompleteAR` runs the AR-estimation using the model order `p`\n",
    "for all sub-sequences of the decimated data sequence. All AR-parameters\n",
    "and innovation variances are stored and is then used to reconstruct the\n",
    "speech as the sequence `datarec` from a Gaussian white noise sequence.\n",
    "The original data and the reconstructed data will be plotted in the same\n",
    "figure for comparison. You should run the script for the three orders\n",
    "above and listen to the resulting reconstructed sound. NOTE: Before\n",
    "playing the sound, check the figures and make sure the reconstructed\n",
    "sequence is stable!"
   ]
  },
  {
   "cell_type": "code",
   "execution_count": null,
   "metadata": {},
   "outputs": [],
   "source": [
    "p = 20  # Chosen model order\n",
    "datarec, fsx = completeAR(datafilt,48000,p) # Estimates seperate AR-models for 20-ms chunks of speech, then reconstructs the speech from filtered white noise\n",
    "\n",
    "# Playing\n",
    "#sd.play(xtotal,fs)\n",
    "#sd.play(datarec,fsx)"
   ]
  },
  {
   "cell_type": "markdown",
   "metadata": {},
   "source": [
    "***Q14. Are you satisfied with the reconstruction of the sound? What is\n",
    "the actual compression, if you divide the number of samples of the\n",
    "sequence with the number of parameters needed for reconstruction?***"
   ]
  }
 ],
 "metadata": {
  "kernelspec": {
   "display_name": "Python 3 (ipykernel)",
   "language": "python",
   "name": "python3"
  },
  "language_info": {
   "codemirror_mode": {
    "name": "ipython",
    "version": 3
   },
   "file_extension": ".py",
   "mimetype": "text/x-python",
   "name": "python",
   "nbconvert_exporter": "python",
   "pygments_lexer": "ipython3",
   "version": "3.12.4"
  }
 },
 "nbformat": 4,
 "nbformat_minor": 4
}
